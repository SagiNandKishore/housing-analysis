{
 "cells": [
  {
   "cell_type": "code",
   "execution_count": null,
   "metadata": {},
   "outputs": [],
   "source": [
    "import pandas as pd\n",
    "import numpy as np\n",
    "from datetime import datetime as dt"
   ]
  },
  {
   "cell_type": "code",
   "execution_count": null,
   "metadata": {},
   "outputs": [],
   "source": [
    "#input_dtypes = ['int32', 'S10'] , dtype=input_dtypes\n",
    "df = pd.read_csv(\"Zillow_data_20191023_(Raleigh Durham Cary).csv\")"
   ]
  },
  {
   "cell_type": "code",
   "execution_count": null,
   "metadata": {},
   "outputs": [],
   "source": [
    "df.head()"
   ]
  },
  {
   "cell_type": "code",
   "execution_count": null,
   "metadata": {},
   "outputs": [],
   "source": [
    "#### Generate the Data and Target data. Target Data is LAST_SOLD_PRICE. \n",
    "#### Rest of the inputs are InputData.\n",
    "\n",
    "housing_data = df.copy()   ## Make a copy of the data before cleaning."
   ]
  },
  {
   "cell_type": "code",
   "execution_count": null,
   "metadata": {},
   "outputs": [],
   "source": [
    "## Clean the dataset to drop DataPoints where LastSoldPrice is not available.\n",
    "\n",
    "print(f\"Shape of dataset before cleaning is {housing_data.shape}\")\n",
    "housing_data.dropna(subset=['zestimate'], inplace = True)\n",
    "print(f\"Shape of dataset after cleaning is {housing_data.shape}\")"
   ]
  },
  {
   "cell_type": "code",
   "execution_count": null,
   "metadata": {},
   "outputs": [],
   "source": [
    "housing_data.describe()"
   ]
  },
  {
   "cell_type": "code",
   "execution_count": null,
   "metadata": {},
   "outputs": [],
   "source": [
    "print(f\"Maximum Estimated price is {housing_data['zestimate'].max()}\")\n",
    "print(f\"Minimum Estimated price is {housing_data['zestimate'].min()}\")"
   ]
  },
  {
   "cell_type": "code",
   "execution_count": null,
   "metadata": {},
   "outputs": [],
   "source": [
    "housing_data['zestimate'].describe()['25%']"
   ]
  },
  {
   "cell_type": "code",
   "execution_count": null,
   "metadata": {},
   "outputs": [],
   "source": [
    "#### To implement classification divide the input data into 5 clusters.\n",
    "#### We will try to predict what group a home in given region would fall into\n",
    "\n",
    "bin_labels = ['1', '2', '3', '4', '5']\n",
    "housing_data['price_bin'] = pd.qcut(housing_data['zestimate'], q=[0, .2, .4, .6, .8, 1], labels = bin_labels)"
   ]
  },
  {
   "cell_type": "code",
   "execution_count": null,
   "metadata": {},
   "outputs": [],
   "source": [
    "housing_data.head()"
   ]
  },
  {
   "cell_type": "code",
   "execution_count": null,
   "metadata": {},
   "outputs": [],
   "source": [
    "###### Drop the lastSoldPrice as the column was needed only to generate\n",
    "###### the bins. SVM is a classification model and not regression.\n",
    "ml_house_prices = housing_data.copy()\n",
    "ml_house_prices.drop(\"zestimate\", axis = 1, inplace = True)\n",
    "ml_house_prices.head()"
   ]
  },
  {
   "cell_type": "code",
   "execution_count": null,
   "metadata": {},
   "outputs": [],
   "source": [
    "target = ml_house_prices['price_bin']\n",
    "target_names = bin_labels"
   ]
  },
  {
   "cell_type": "code",
   "execution_count": null,
   "metadata": {},
   "outputs": [],
   "source": [
    "##### Drop the price_bin as that is the prediction target. \n",
    "\n",
    "ml_house_prices.drop(\"price_bin\", axis = 1, inplace = True)\n",
    "ml_house_prices.head()"
   ]
  },
  {
   "cell_type": "code",
   "execution_count": null,
   "metadata": {},
   "outputs": [],
   "source": [
    "###### Drop the additional columns, that we dont need for training.\n",
    "###### Since we are dropping columns from DataFrame, make a copy of that dataframe before drop.\n",
    "\n",
    "##print(ml_house_prices.columns)\n",
    "ml_house_prices_2 = ml_house_prices.copy()\n",
    "ml_house_prices_2.drop([\"@id\", \"@name\", \"FIPScounty\", \"city\", \"lastSoldDate\", \"lastSoldPrice\", \"links\", 'state', 'street', 'taxAssessmentYear', 'useCode', 'zindexValue', 'zipcode', 'zpid'], axis=1, inplace=True)\n",
    "\n",
    "####### Print a list of all columns in the dataframe.\n",
    "print(ml_house_prices_2.columns)"
   ]
  },
  {
   "cell_type": "code",
   "execution_count": null,
   "metadata": {},
   "outputs": [],
   "source": [
    "ml_house_prices_2[\"@type\"] = pd.Categorical(ml_house_prices_2[\"@type\"])\n",
    "ml_house_prices_2[\"type-codes\"] = ml_house_prices_2[\"@type\"].cat.codes\n",
    "ml_house_prices_2.drop(['@type'], axis = 1, inplace = True)"
   ]
  },
  {
   "cell_type": "code",
   "execution_count": null,
   "metadata": {},
   "outputs": [],
   "source": [
    "from sklearn.model_selection import train_test_split\n",
    "X_train, X_test, y_train, y_test = train_test_split(ml_house_prices_2, target, random_state = 42)"
   ]
  },
  {
   "cell_type": "code",
   "execution_count": null,
   "metadata": {},
   "outputs": [],
   "source": [
    "X_train = np.nan_to_num(X_train)\n",
    "y_train = np.nan_to_num(y_train)"
   ]
  },
  {
   "cell_type": "code",
   "execution_count": null,
   "metadata": {},
   "outputs": [],
   "source": [
    "print(f\"Model Fit activities started at {dt.now().strftime('%d-%b-%Y %I:%M:%S %p')}\")"
   ]
  },
  {
   "cell_type": "code",
   "execution_count": null,
   "metadata": {},
   "outputs": [],
   "source": [
    "start_date_time = dt.now()\n",
    "print(f\"Model fit activities started at {start_date_time.strftime('%d-%b-%Y %I:%M:%S %p')}\")\n",
    "from sklearn.svm import SVC\n",
    "model = SVC(kernel = 'poly', random_state = 42)\n",
    "model.fit (X_train, y_train)\n",
    "end_date_time = dt.now()\n",
    "print(f\"Model fit ended at {end_date_time.strftime('%d-%b-%Y %I:%M:%S %p')}\")"
   ]
  },
  {
   "cell_type": "code",
   "execution_count": null,
   "metadata": {},
   "outputs": [],
   "source": []
  }
 ],
 "metadata": {
  "kernelspec": {
   "display_name": "Python 3",
   "language": "python",
   "name": "python3"
  },
  "language_info": {
   "codemirror_mode": {
    "name": "ipython",
    "version": 3
   },
   "file_extension": ".py",
   "mimetype": "text/x-python",
   "name": "python",
   "nbconvert_exporter": "python",
   "pygments_lexer": "ipython3",
   "version": "3.7.3"
  }
 },
 "nbformat": 4,
 "nbformat_minor": 2
}
